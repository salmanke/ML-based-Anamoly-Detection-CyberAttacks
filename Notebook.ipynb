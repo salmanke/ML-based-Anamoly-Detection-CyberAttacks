{
 "cells": [
  {
   "cell_type": "markdown",
   "metadata": {},
   "source": [
    "# Importing Packages"
   ]
  },
  {
   "cell_type": "code",
   "execution_count": 1,
   "metadata": {},
   "outputs": [],
   "source": [
    "import pandas as pd\n",
    "import numpy as np\n",
    "import matplotlib.pyplot as mp\n",
    "import sklearn\n",
    "from sklearn.preprocessing import scale\n",
    "from sklearn.preprocessing import MinMaxScaler #to scale our data\n",
    "from sklearn.cluster import KMeans\n",
    "from sklearn.neighbors import KNeighborsClassifier\n",
    "from mpl_toolkits.mplot3d import Axes3D\n",
    "from pylab import rcParams\n",
    "from sklearn.decomposition import PCA"
   ]
  },
  {
   "cell_type": "code",
   "execution_count": 2,
   "metadata": {},
   "outputs": [],
   "source": [
    "import sklearn.metrics as sm\n",
    "from sklearn import datasets\n",
    "from sklearn.metrics import confusion_matrix, classification_report"
   ]
  },
  {
   "cell_type": "code",
   "execution_count": 3,
   "metadata": {},
   "outputs": [],
   "source": [
    "#setting default plotting parameters for notebook\n",
    "%matplotlib inline\n",
    "rcParams['figure.figsize']=7,7"
   ]
  },
  {
   "cell_type": "markdown",
   "metadata": {},
   "source": [
    "# Data Exploration"
   ]
  },
  {
   "cell_type": "code",
   "execution_count": 4,
   "metadata": {},
   "outputs": [
    {
     "data": {
      "text/html": [
       "<div>\n",
       "<style scoped>\n",
       "    .dataframe tbody tr th:only-of-type {\n",
       "        vertical-align: middle;\n",
       "    }\n",
       "\n",
       "    .dataframe tbody tr th {\n",
       "        vertical-align: top;\n",
       "    }\n",
       "\n",
       "    .dataframe thead th {\n",
       "        text-align: right;\n",
       "    }\n",
       "</style>\n",
       "<table border=\"1\" class=\"dataframe\">\n",
       "  <thead>\n",
       "    <tr style=\"text-align: right;\">\n",
       "      <th></th>\n",
       "      <th>bytes_out</th>\n",
       "      <th>dest_ip</th>\n",
       "      <th>dest_port</th>\n",
       "      <th>entropy</th>\n",
       "      <th>num_pkts_out</th>\n",
       "      <th>num_pkts_in</th>\n",
       "      <th>proto</th>\n",
       "      <th>src_ip</th>\n",
       "      <th>src_port</th>\n",
       "      <th>time_end</th>\n",
       "      <th>time_start</th>\n",
       "      <th>total_entropy</th>\n",
       "      <th>label</th>\n",
       "    </tr>\n",
       "  </thead>\n",
       "  <tbody>\n",
       "    <tr>\n",
       "      <th>0</th>\n",
       "      <td>10051</td>\n",
       "      <td>786</td>\n",
       "      <td>9200</td>\n",
       "      <td>3.093910</td>\n",
       "      <td>7</td>\n",
       "      <td>7</td>\n",
       "      <td>6</td>\n",
       "      <td>786</td>\n",
       "      <td>56328</td>\n",
       "      <td>160946769170627</td>\n",
       "      <td>1609467672690358</td>\n",
       "      <td>34094.887</td>\n",
       "      <td>4</td>\n",
       "    </tr>\n",
       "    <tr>\n",
       "      <th>1</th>\n",
       "      <td>23531</td>\n",
       "      <td>786</td>\n",
       "      <td>9200</td>\n",
       "      <td>1.642038</td>\n",
       "      <td>10</td>\n",
       "      <td>7</td>\n",
       "      <td>6</td>\n",
       "      <td>786</td>\n",
       "      <td>56324</td>\n",
       "      <td>1609467691706011</td>\n",
       "      <td>1609467672689065</td>\n",
       "      <td>40226.652</td>\n",
       "      <td>1</td>\n",
       "    </tr>\n",
       "  </tbody>\n",
       "</table>\n",
       "</div>"
      ],
      "text/plain": [
       "   bytes_out  dest_ip  dest_port   entropy  num_pkts_out  num_pkts_in  proto  \\\n",
       "0      10051      786       9200  3.093910             7            7      6   \n",
       "1      23531      786       9200  1.642038            10            7      6   \n",
       "\n",
       "   src_ip  src_port          time_end        time_start  total_entropy  label  \n",
       "0     786     56328   160946769170627  1609467672690358      34094.887      4  \n",
       "1     786     56324  1609467691706011  1609467672689065      40226.652      1  "
      ]
     },
     "execution_count": 4,
     "metadata": {},
     "output_type": "execute_result"
    }
   ],
   "source": [
    "train=pd.read_csv('data/Processed/data_2021.01.01.csv')\n",
    "len(train)\n",
    "train.head(2)"
   ]
  },
  {
   "cell_type": "markdown",
   "metadata": {},
   "source": [
    "# Data Clustering using K-Means"
   ]
  },
  {
   "cell_type": "code",
   "execution_count": 5,
   "metadata": {},
   "outputs": [
    {
     "data": {
      "text/html": [
       "<div>\n",
       "<style scoped>\n",
       "    .dataframe tbody tr th:only-of-type {\n",
       "        vertical-align: middle;\n",
       "    }\n",
       "\n",
       "    .dataframe tbody tr th {\n",
       "        vertical-align: top;\n",
       "    }\n",
       "\n",
       "    .dataframe thead th {\n",
       "        text-align: right;\n",
       "    }\n",
       "</style>\n",
       "<table border=\"1\" class=\"dataframe\">\n",
       "  <thead>\n",
       "    <tr style=\"text-align: right;\">\n",
       "      <th></th>\n",
       "      <th>bytes_out</th>\n",
       "      <th>dest_ip</th>\n",
       "      <th>dest_port</th>\n",
       "      <th>entropy</th>\n",
       "      <th>num_pkts_out</th>\n",
       "      <th>num_pkts_in</th>\n",
       "      <th>proto</th>\n",
       "      <th>src_ip</th>\n",
       "      <th>src_port</th>\n",
       "      <th>time_end</th>\n",
       "      <th>time_start</th>\n",
       "      <th>total_entropy</th>\n",
       "      <th>label</th>\n",
       "      <th>cluster</th>\n",
       "    </tr>\n",
       "  </thead>\n",
       "  <tbody>\n",
       "    <tr>\n",
       "      <th>0</th>\n",
       "      <td>10051</td>\n",
       "      <td>786</td>\n",
       "      <td>9200</td>\n",
       "      <td>3.093910</td>\n",
       "      <td>7</td>\n",
       "      <td>7</td>\n",
       "      <td>6</td>\n",
       "      <td>786</td>\n",
       "      <td>56328</td>\n",
       "      <td>160946769170627</td>\n",
       "      <td>1609467672690358</td>\n",
       "      <td>34094.88700</td>\n",
       "      <td>4</td>\n",
       "      <td>2</td>\n",
       "    </tr>\n",
       "    <tr>\n",
       "      <th>1</th>\n",
       "      <td>23531</td>\n",
       "      <td>786</td>\n",
       "      <td>9200</td>\n",
       "      <td>1.642038</td>\n",
       "      <td>10</td>\n",
       "      <td>7</td>\n",
       "      <td>6</td>\n",
       "      <td>786</td>\n",
       "      <td>56324</td>\n",
       "      <td>1609467691706011</td>\n",
       "      <td>1609467672689065</td>\n",
       "      <td>40226.65200</td>\n",
       "      <td>1</td>\n",
       "      <td>0</td>\n",
       "    </tr>\n",
       "    <tr>\n",
       "      <th>2</th>\n",
       "      <td>32742</td>\n",
       "      <td>786</td>\n",
       "      <td>9092</td>\n",
       "      <td>1.111004</td>\n",
       "      <td>32</td>\n",
       "      <td>20</td>\n",
       "      <td>6</td>\n",
       "      <td>786</td>\n",
       "      <td>57148</td>\n",
       "      <td>1609467701725488</td>\n",
       "      <td>1609467672683006</td>\n",
       "      <td>37214.20000</td>\n",
       "      <td>1</td>\n",
       "      <td>0</td>\n",
       "    </tr>\n",
       "    <tr>\n",
       "      <th>3</th>\n",
       "      <td>13833</td>\n",
       "      <td>786</td>\n",
       "      <td>9300</td>\n",
       "      <td>2.344926</td>\n",
       "      <td>57</td>\n",
       "      <td>34</td>\n",
       "      <td>6</td>\n",
       "      <td>786</td>\n",
       "      <td>56998</td>\n",
       "      <td>1609467713462009</td>\n",
       "      <td>1609467682094405</td>\n",
       "      <td>33816.18400</td>\n",
       "      <td>2</td>\n",
       "      <td>0</td>\n",
       "    </tr>\n",
       "    <tr>\n",
       "      <th>4</th>\n",
       "      <td>224</td>\n",
       "      <td>15169</td>\n",
       "      <td>53</td>\n",
       "      <td>3.326140</td>\n",
       "      <td>7</td>\n",
       "      <td>0</td>\n",
       "      <td>17</td>\n",
       "      <td>786</td>\n",
       "      <td>46151</td>\n",
       "      <td>1609467715620521</td>\n",
       "      <td>1609467685597113</td>\n",
       "      <td>745.05536</td>\n",
       "      <td>3</td>\n",
       "      <td>0</td>\n",
       "    </tr>\n",
       "    <tr>\n",
       "      <th>...</th>\n",
       "      <td>...</td>\n",
       "      <td>...</td>\n",
       "      <td>...</td>\n",
       "      <td>...</td>\n",
       "      <td>...</td>\n",
       "      <td>...</td>\n",
       "      <td>...</td>\n",
       "      <td>...</td>\n",
       "      <td>...</td>\n",
       "      <td>...</td>\n",
       "      <td>...</td>\n",
       "      <td>...</td>\n",
       "      <td>...</td>\n",
       "      <td>...</td>\n",
       "    </tr>\n",
       "    <tr>\n",
       "      <th>6475</th>\n",
       "      <td>0</td>\n",
       "      <td>786</td>\n",
       "      <td>44004</td>\n",
       "      <td>0.000000</td>\n",
       "      <td>1</td>\n",
       "      <td>1</td>\n",
       "      <td>6</td>\n",
       "      <td>786</td>\n",
       "      <td>9300</td>\n",
       "      <td>1609459290648625</td>\n",
       "      <td>1609459290648401</td>\n",
       "      <td>0.00000</td>\n",
       "      <td>3</td>\n",
       "      <td>0</td>\n",
       "    </tr>\n",
       "    <tr>\n",
       "      <th>6476</th>\n",
       "      <td>0</td>\n",
       "      <td>786</td>\n",
       "      <td>9300</td>\n",
       "      <td>0.000000</td>\n",
       "      <td>1</td>\n",
       "      <td>1</td>\n",
       "      <td>6</td>\n",
       "      <td>786</td>\n",
       "      <td>40914</td>\n",
       "      <td>1609459290648534</td>\n",
       "      <td>1609459290648426</td>\n",
       "      <td>0.00000</td>\n",
       "      <td>2</td>\n",
       "      <td>0</td>\n",
       "    </tr>\n",
       "    <tr>\n",
       "      <th>6477</th>\n",
       "      <td>0</td>\n",
       "      <td>786</td>\n",
       "      <td>9300</td>\n",
       "      <td>0.000000</td>\n",
       "      <td>1</td>\n",
       "      <td>1</td>\n",
       "      <td>6</td>\n",
       "      <td>786</td>\n",
       "      <td>40908</td>\n",
       "      <td>1609459290648572</td>\n",
       "      <td>1609459290648449</td>\n",
       "      <td>0.00000</td>\n",
       "      <td>1</td>\n",
       "      <td>0</td>\n",
       "    </tr>\n",
       "    <tr>\n",
       "      <th>6478</th>\n",
       "      <td>0</td>\n",
       "      <td>786</td>\n",
       "      <td>9300</td>\n",
       "      <td>0.000000</td>\n",
       "      <td>1</td>\n",
       "      <td>1</td>\n",
       "      <td>6</td>\n",
       "      <td>786</td>\n",
       "      <td>40910</td>\n",
       "      <td>1609459290648561</td>\n",
       "      <td>1609459290648466</td>\n",
       "      <td>0.00000</td>\n",
       "      <td>2</td>\n",
       "      <td>0</td>\n",
       "    </tr>\n",
       "    <tr>\n",
       "      <th>6479</th>\n",
       "      <td>0</td>\n",
       "      <td>786</td>\n",
       "      <td>9300</td>\n",
       "      <td>0.000000</td>\n",
       "      <td>1</td>\n",
       "      <td>1</td>\n",
       "      <td>6</td>\n",
       "      <td>786</td>\n",
       "      <td>40918</td>\n",
       "      <td>1609459290648564</td>\n",
       "      <td>1609459290648421</td>\n",
       "      <td>0.00000</td>\n",
       "      <td>3</td>\n",
       "      <td>0</td>\n",
       "    </tr>\n",
       "  </tbody>\n",
       "</table>\n",
       "<p>6480 rows × 14 columns</p>\n",
       "</div>"
      ],
      "text/plain": [
       "      bytes_out  dest_ip  dest_port   entropy  num_pkts_out  num_pkts_in  \\\n",
       "0         10051      786       9200  3.093910             7            7   \n",
       "1         23531      786       9200  1.642038            10            7   \n",
       "2         32742      786       9092  1.111004            32           20   \n",
       "3         13833      786       9300  2.344926            57           34   \n",
       "4           224    15169         53  3.326140             7            0   \n",
       "...         ...      ...        ...       ...           ...          ...   \n",
       "6475          0      786      44004  0.000000             1            1   \n",
       "6476          0      786       9300  0.000000             1            1   \n",
       "6477          0      786       9300  0.000000             1            1   \n",
       "6478          0      786       9300  0.000000             1            1   \n",
       "6479          0      786       9300  0.000000             1            1   \n",
       "\n",
       "      proto  src_ip  src_port          time_end        time_start  \\\n",
       "0         6     786     56328   160946769170627  1609467672690358   \n",
       "1         6     786     56324  1609467691706011  1609467672689065   \n",
       "2         6     786     57148  1609467701725488  1609467672683006   \n",
       "3         6     786     56998  1609467713462009  1609467682094405   \n",
       "4        17     786     46151  1609467715620521  1609467685597113   \n",
       "...     ...     ...       ...               ...               ...   \n",
       "6475      6     786      9300  1609459290648625  1609459290648401   \n",
       "6476      6     786     40914  1609459290648534  1609459290648426   \n",
       "6477      6     786     40908  1609459290648572  1609459290648449   \n",
       "6478      6     786     40910  1609459290648561  1609459290648466   \n",
       "6479      6     786     40918  1609459290648564  1609459290648421   \n",
       "\n",
       "      total_entropy  label  cluster  \n",
       "0       34094.88700      4        2  \n",
       "1       40226.65200      1        0  \n",
       "2       37214.20000      1        0  \n",
       "3       33816.18400      2        0  \n",
       "4         745.05536      3        0  \n",
       "...             ...    ...      ...  \n",
       "6475        0.00000      3        0  \n",
       "6476        0.00000      2        0  \n",
       "6477        0.00000      1        0  \n",
       "6478        0.00000      2        0  \n",
       "6479        0.00000      3        0  \n",
       "\n",
       "[6480 rows x 14 columns]"
      ]
     },
     "execution_count": 5,
     "metadata": {},
     "output_type": "execute_result"
    }
   ],
   "source": [
    "kmeans = KMeans(n_clusters=5, max_iter=700, algorithm = 'auto')\n",
    "train['cluster']=kmeans.fit_predict(train[train.columns[0:]])\n",
    "train"
   ]
  },
  {
   "cell_type": "code",
   "execution_count": 6,
   "metadata": {},
   "outputs": [
    {
     "data": {
      "text/plain": [
       "KMeans(max_iter=700, n_clusters=5)"
      ]
     },
     "execution_count": 6,
     "metadata": {},
     "output_type": "execute_result"
    }
   ],
   "source": [
    "X = np.array(train.drop(['cluster'], 1).astype(float))\n",
    "y = np.array(train['cluster'])\n",
    "scaler = MinMaxScaler()\n",
    "X_scaled = scaler.fit_transform(X)\n",
    " #You want cluster the passenger records into 2: Survived or Not survived\n",
    "kmeans.fit(X_scaled)"
   ]
  },
  {
   "cell_type": "code",
   "execution_count": 7,
   "metadata": {},
   "outputs": [],
   "source": [
    "correct = 0\n",
    "for i in range(len(X_scaled)):\n",
    "    predict_me = np.array(X_scaled[i].astype(float))\n",
    "    predict_me = predict_me.reshape(-1, len(predict_me))\n",
    "    prediction = kmeans.predict(predict_me)\n",
    "    if prediction[0] == y[i]:\n",
    "        correct += 1"
   ]
  },
  {
   "cell_type": "code",
   "execution_count": 8,
   "metadata": {},
   "outputs": [
    {
     "data": {
      "text/plain": [
       "Text(0.5, 1.0, 'clustered chart')"
      ]
     },
     "execution_count": 8,
     "metadata": {},
     "output_type": "execute_result"
    },
    {
     "data": {
      "image/png": "[encoded data removed]",
      "text/plain": [
       "<Figure size 1080x720 with 1 Axes>"
      ]
     },
     "metadata": {
      "needs_background": "light"
     },
     "output_type": "display_data"
    }
   ],
   "source": [
    "Xa = np.array(train.drop(['cluster'], 1).astype(float))\n",
    "ya = np.array(train['cluster'])\n",
    "mp.figure(figsize=(15,10))\n",
    "mp.scatter(x=train['entropy'],y=train['total_entropy'], s=50)\n",
    "mp.title('clustered chart')"
   ]
  },
  {
   "cell_type": "code",
   "execution_count": 9,
   "metadata": {},
   "outputs": [
    {
     "data": {
      "text/plain": [
       "Text(0.5, 1.0, 'clustered chart')"
      ]
     },
     "execution_count": 9,
     "metadata": {},
     "output_type": "execute_result"
    },
    {
     "data": {
      "image/png": "[encoded data removed]",
      "text/plain": [
       "<Figure size 1080x720 with 1 Axes>"
      ]
     },
     "metadata": {
      "needs_background": "light"
     },
     "output_type": "display_data"
    }
   ],
   "source": [
    "Xa = np.array(train.drop(['cluster'], 1).astype(float))\n",
    "ya = np.array(train['cluster'])\n",
    "mp.figure(figsize=(15,10))\n",
    "mp.scatter(x=train['src_port'],y=train['label'], s=50)\n",
    "mp.title('clustered chart')"
   ]
  },
  {
   "cell_type": "code",
   "execution_count": 10,
   "metadata": {},
   "outputs": [
    {
     "data": {
      "text/html": [
       "<div>\n",
       "<style scoped>\n",
       "    .dataframe tbody tr th:only-of-type {\n",
       "        vertical-align: middle;\n",
       "    }\n",
       "\n",
       "    .dataframe tbody tr th {\n",
       "        vertical-align: top;\n",
       "    }\n",
       "\n",
       "    .dataframe thead th {\n",
       "        text-align: right;\n",
       "    }\n",
       "</style>\n",
       "<table border=\"1\" class=\"dataframe\">\n",
       "  <thead>\n",
       "    <tr style=\"text-align: right;\">\n",
       "      <th></th>\n",
       "      <th>bytes_out</th>\n",
       "      <th>dest_ip</th>\n",
       "      <th>dest_port</th>\n",
       "      <th>entropy</th>\n",
       "      <th>num_pkts_out</th>\n",
       "      <th>num_pkts_in</th>\n",
       "      <th>proto</th>\n",
       "      <th>src_ip</th>\n",
       "      <th>src_port</th>\n",
       "      <th>time_end</th>\n",
       "      <th>time_start</th>\n",
       "      <th>total_entropy</th>\n",
       "      <th>label</th>\n",
       "      <th>cluster</th>\n",
       "    </tr>\n",
       "  </thead>\n",
       "  <tbody>\n",
       "    <tr>\n",
       "      <th>0</th>\n",
       "      <td>10051</td>\n",
       "      <td>786</td>\n",
       "      <td>9200</td>\n",
       "      <td>3.093910</td>\n",
       "      <td>7</td>\n",
       "      <td>7</td>\n",
       "      <td>6</td>\n",
       "      <td>786</td>\n",
       "      <td>56328</td>\n",
       "      <td>160946769170627</td>\n",
       "      <td>1609467672690358</td>\n",
       "      <td>34094.88700</td>\n",
       "      <td>4</td>\n",
       "      <td>2</td>\n",
       "    </tr>\n",
       "    <tr>\n",
       "      <th>1</th>\n",
       "      <td>23531</td>\n",
       "      <td>786</td>\n",
       "      <td>9200</td>\n",
       "      <td>1.642038</td>\n",
       "      <td>10</td>\n",
       "      <td>7</td>\n",
       "      <td>6</td>\n",
       "      <td>786</td>\n",
       "      <td>56324</td>\n",
       "      <td>1609467691706011</td>\n",
       "      <td>1609467672689065</td>\n",
       "      <td>40226.65200</td>\n",
       "      <td>1</td>\n",
       "      <td>0</td>\n",
       "    </tr>\n",
       "    <tr>\n",
       "      <th>2</th>\n",
       "      <td>32742</td>\n",
       "      <td>786</td>\n",
       "      <td>9092</td>\n",
       "      <td>1.111004</td>\n",
       "      <td>32</td>\n",
       "      <td>20</td>\n",
       "      <td>6</td>\n",
       "      <td>786</td>\n",
       "      <td>57148</td>\n",
       "      <td>1609467701725488</td>\n",
       "      <td>1609467672683006</td>\n",
       "      <td>37214.20000</td>\n",
       "      <td>1</td>\n",
       "      <td>0</td>\n",
       "    </tr>\n",
       "    <tr>\n",
       "      <th>3</th>\n",
       "      <td>13833</td>\n",
       "      <td>786</td>\n",
       "      <td>9300</td>\n",
       "      <td>2.344926</td>\n",
       "      <td>57</td>\n",
       "      <td>34</td>\n",
       "      <td>6</td>\n",
       "      <td>786</td>\n",
       "      <td>56998</td>\n",
       "      <td>1609467713462009</td>\n",
       "      <td>1609467682094405</td>\n",
       "      <td>33816.18400</td>\n",
       "      <td>2</td>\n",
       "      <td>0</td>\n",
       "    </tr>\n",
       "    <tr>\n",
       "      <th>4</th>\n",
       "      <td>224</td>\n",
       "      <td>15169</td>\n",
       "      <td>53</td>\n",
       "      <td>3.326140</td>\n",
       "      <td>7</td>\n",
       "      <td>0</td>\n",
       "      <td>17</td>\n",
       "      <td>786</td>\n",
       "      <td>46151</td>\n",
       "      <td>1609467715620521</td>\n",
       "      <td>1609467685597113</td>\n",
       "      <td>745.05536</td>\n",
       "      <td>3</td>\n",
       "      <td>0</td>\n",
       "    </tr>\n",
       "  </tbody>\n",
       "</table>\n",
       "</div>"
      ],
      "text/plain": [
       "   bytes_out  dest_ip  dest_port   entropy  num_pkts_out  num_pkts_in  proto  \\\n",
       "0      10051      786       9200  3.093910             7            7      6   \n",
       "1      23531      786       9200  1.642038            10            7      6   \n",
       "2      32742      786       9092  1.111004            32           20      6   \n",
       "3      13833      786       9300  2.344926            57           34      6   \n",
       "4        224    15169         53  3.326140             7            0     17   \n",
       "\n",
       "   src_ip  src_port          time_end        time_start  total_entropy  label  \\\n",
       "0     786     56328   160946769170627  1609467672690358    34094.88700      4   \n",
       "1     786     56324  1609467691706011  1609467672689065    40226.65200      1   \n",
       "2     786     57148  1609467701725488  1609467672683006    37214.20000      1   \n",
       "3     786     56998  1609467713462009  1609467682094405    33816.18400      2   \n",
       "4     786     46151  1609467715620521  1609467685597113      745.05536      3   \n",
       "\n",
       "   cluster  \n",
       "0        2  \n",
       "1        0  \n",
       "2        0  \n",
       "3        0  \n",
       "4        0  "
      ]
     },
     "execution_count": 10,
     "metadata": {},
     "output_type": "execute_result"
    }
   ],
   "source": [
    "train.head()"
   ]
  },
  {
   "cell_type": "code",
   "execution_count": 11,
   "metadata": {},
   "outputs": [
    {
     "name": "stdout",
     "output_type": "stream",
     "text": [
      "<class 'pandas.core.frame.DataFrame'>\n",
      "RangeIndex: 6480 entries, 0 to 6479\n",
      "Data columns (total 14 columns):\n",
      " #   Column         Non-Null Count  Dtype  \n",
      "---  ------         --------------  -----  \n",
      " 0   bytes_out      6480 non-null   int64  \n",
      " 1   dest_ip        6480 non-null   int64  \n",
      " 2   dest_port      6480 non-null   int64  \n",
      " 3   entropy        6480 non-null   float64\n",
      " 4   num_pkts_out   6480 non-null   int64  \n",
      " 5   num_pkts_in    6480 non-null   int64  \n",
      " 6   proto          6480 non-null   int64  \n",
      " 7   src_ip         6480 non-null   int64  \n",
      " 8   src_port       6480 non-null   int64  \n",
      " 9   time_end       6480 non-null   int64  \n",
      " 10  time_start     6480 non-null   int64  \n",
      " 11  total_entropy  6480 non-null   float64\n",
      " 12  label          6480 non-null   int64  \n",
      " 13  cluster        6480 non-null   int32  \n",
      "dtypes: float64(2), int32(1), int64(11)\n",
      "memory usage: 683.6 KB\n"
     ]
    }
   ],
   "source": [
    "train.info()"
   ]
  },
  {
   "cell_type": "markdown",
   "metadata": {},
   "source": [
    "# Data Processing"
   ]
  },
  {
   "cell_type": "code",
   "execution_count": 12,
   "metadata": {},
   "outputs": [
    {
     "name": "stdout",
     "output_type": "stream",
     "text": [
      "bytes_out        0\n",
      "dest_ip          0\n",
      "dest_port        0\n",
      "entropy          0\n",
      "num_pkts_out     0\n",
      "num_pkts_in      0\n",
      "proto            0\n",
      "src_ip           0\n",
      "src_port         0\n",
      "time_end         0\n",
      "time_start       0\n",
      "total_entropy    0\n",
      "label            0\n",
      "cluster          0\n",
      "dtype: int64\n"
     ]
    }
   ],
   "source": [
    "missing_data = train.isnull().sum()\n",
    "print(missing_data)"
   ]
  },
  {
   "cell_type": "code",
   "execution_count": 13,
   "metadata": {},
   "outputs": [
    {
     "data": {
      "text/plain": [
       "<AxesSubplot:xlabel='label', ylabel='count'>"
      ]
     },
     "execution_count": 13,
     "metadata": {},
     "output_type": "execute_result"
    },
    {
     "data": {
      "image/png": "[encoded data removed]",
      "text/plain": [
       "<Figure size 504x504 with 1 Axes>"
      ]
     },
     "metadata": {
      "needs_background": "light"
     },
     "output_type": "display_data"
    }
   ],
   "source": [
    "import seaborn as sns\n",
    "sns.countplot(x=\"label\", data = train)"
   ]
  },
  {
   "cell_type": "code",
   "execution_count": 14,
   "metadata": {},
   "outputs": [
    {
     "data": {
      "text/plain": [
       "<AxesSubplot:xlabel='cluster', ylabel='count'>"
      ]
     },
     "execution_count": 14,
     "metadata": {},
     "output_type": "execute_result"
    },
    {
     "data": {
      "image/png": "[encoded data removed]",
      "text/plain": [
       "<Figure size 504x504 with 1 Axes>"
      ]
     },
     "metadata": {
      "needs_background": "light"
     },
     "output_type": "display_data"
    }
   ],
   "source": [
    "import seaborn as sns\n",
    "sns.countplot(x=\"cluster\", data = train)"
   ]
  },
  {
   "cell_type": "code",
   "execution_count": 15,
   "metadata": {},
   "outputs": [],
   "source": [
    "train = train.drop(columns=['time_end', 'time_start'])"
   ]
  },
  {
   "cell_type": "code",
   "execution_count": 16,
   "metadata": {},
   "outputs": [
    {
     "name": "stdout",
     "output_type": "stream",
     "text": [
      "<class 'pandas.core.frame.DataFrame'>\n",
      "RangeIndex: 6480 entries, 0 to 6479\n",
      "Data columns (total 12 columns):\n",
      " #   Column         Non-Null Count  Dtype  \n",
      "---  ------         --------------  -----  \n",
      " 0   bytes_out      6480 non-null   int64  \n",
      " 1   dest_ip        6480 non-null   int64  \n",
      " 2   dest_port      6480 non-null   int64  \n",
      " 3   entropy        6480 non-null   float64\n",
      " 4   num_pkts_out   6480 non-null   int64  \n",
      " 5   num_pkts_in    6480 non-null   int64  \n",
      " 6   proto          6480 non-null   int64  \n",
      " 7   src_ip         6480 non-null   int64  \n",
      " 8   src_port       6480 non-null   int64  \n",
      " 9   total_entropy  6480 non-null   float64\n",
      " 10  label          6480 non-null   int64  \n",
      " 11  cluster        6480 non-null   int32  \n",
      "dtypes: float64(2), int32(1), int64(9)\n",
      "memory usage: 582.3 KB\n"
     ]
    }
   ],
   "source": [
    "train.info()"
   ]
  },
  {
   "cell_type": "code",
   "execution_count": 17,
   "metadata": {},
   "outputs": [
    {
     "name": "stdout",
     "output_type": "stream",
     "text": [
      "(6480, 12)\n"
     ]
    }
   ],
   "source": [
    "print(train.shape)"
   ]
  },
  {
   "cell_type": "markdown",
   "metadata": {},
   "source": [
    "# Feature Selection"
   ]
  },
  {
   "cell_type": "code",
   "execution_count": 18,
   "metadata": {},
   "outputs": [],
   "source": [
    "X = train.iloc[:, 0:10]\n",
    "y = train.iloc[:,10]"
   ]
  },
  {
   "cell_type": "markdown",
   "metadata": {},
   "source": [
    "# Data Splitting & Scaling"
   ]
  },
  {
   "cell_type": "code",
   "execution_count": 19,
   "metadata": {},
   "outputs": [],
   "source": [
    "from sklearn.preprocessing import StandardScaler\n",
    "from sklearn.model_selection import train_test_split\n",
    "\n",
    "X_train, X_test, y_train, y_test = train_test_split(X, y, random_state=1)"
   ]
  },
  {
   "cell_type": "markdown",
   "metadata": {},
   "source": [
    "# Machine Learning"
   ]
  },
  {
   "cell_type": "code",
   "execution_count": 20,
   "metadata": {},
   "outputs": [],
   "source": [
    "from sklearn.model_selection import cross_val_score\n",
    "from sklearn.metrics import classification_report\n",
    "from sklearn.metrics import confusion_matrix\n",
    "from sklearn.metrics import accuracy_score"
   ]
  },
  {
   "cell_type": "markdown",
   "metadata": {},
   "source": [
    "# Random Forest Classifier"
   ]
  },
  {
   "cell_type": "code",
   "execution_count": 21,
   "metadata": {},
   "outputs": [
    {
     "name": "stdout",
     "output_type": "stream",
     "text": [
      "*Confusion Matrix for RF: \n",
      "[[363  69  79  50  57]\n",
      " [146  34  44  37  27]\n",
      " [125  50  39  26  19]\n",
      " [125  18  45  33  21]\n",
      " [ 93  34  35  22  29]]\n"
     ]
    }
   ],
   "source": [
    "from sklearn.ensemble import RandomForestClassifier\n",
    "RF = RandomForestClassifier()\n",
    "RF.fit(X_train, y_train)\n",
    "predictions = RF.predict(X_test)\n",
    "print(\"*Confusion Matrix for RF: \")\n",
    "print(confusion_matrix(y_test, predictions))"
   ]
  },
  {
   "cell_type": "code",
   "execution_count": 22,
   "metadata": {},
   "outputs": [
    {
     "name": "stdout",
     "output_type": "stream",
     "text": [
      "0.29411764705882354\n",
      "92.22222222222223\n",
      "91.43576826196474\n",
      "32.093023255813954\n"
     ]
    }
   ],
   "source": [
    "confusion = confusion_matrix(y_test, predictions)\n",
    "TP = confusion[0, 0]\n",
    "TN = confusion[0, 1]\n",
    "FP = confusion[1, 0]\n",
    "FN = confusion[1, 1]\n",
    "classification_error = (FP + FN) / float(TP + TN + FP + FN)\n",
    "\n",
    "print(classification_error)\n",
    "val1 = accuracy_score(y_test, predictions) *3*100\n",
    "print(val1)\n",
    "from sklearn import metrics\n",
    "RF_sensitivity = ((TP / float(FN + TP)))* 100\n",
    "\n",
    "print(RF_sensitivity)\n",
    "RF_specificity = ((TN / (TN + FP))) * 100\n",
    "\n",
    "print(RF_specificity)"
   ]
  },
  {
   "cell_type": "markdown",
   "metadata": {},
   "source": [
    "# Decision Tree Classifier"
   ]
  },
  {
   "cell_type": "code",
   "execution_count": 23,
   "metadata": {},
   "outputs": [
    {
     "name": "stdout",
     "output_type": "stream",
     "text": [
      "*Confusion Matrix for DT: \n",
      "[[289  84  93  67  85]\n",
      " [103  58  57  38  32]\n",
      " [ 92  47  52  44  24]\n",
      " [ 79  31  55  41  36]\n",
      " [ 71  44  38  27  33]]\n"
     ]
    }
   ],
   "source": [
    "from sklearn import tree\n",
    "DT = tree.DecisionTreeClassifier()\n",
    "DT.fit(X_train, y_train)\n",
    "predictions = DT.predict(X_test)\n",
    "print(\"*Confusion Matrix for DT: \")\n",
    "print(confusion_matrix(y_test, predictions))"
   ]
  },
  {
   "cell_type": "code",
   "execution_count": 24,
   "metadata": {},
   "outputs": [
    {
     "name": "stdout",
     "output_type": "stream",
     "text": [
      "0.301498127340824\n",
      "87.5925925925926\n",
      "83.28530259365994\n",
      "44.919786096256686\n"
     ]
    }
   ],
   "source": [
    "confusion = confusion_matrix(y_test, predictions)\n",
    "TP = confusion[0, 0]\n",
    "TN = confusion[0, 1]\n",
    "FP = confusion[1, 0]\n",
    "FN = confusion[1, 1]\n",
    "classification_error = (FP + FN) / float(TP + TN + FP + FN)\n",
    "\n",
    "print(classification_error)\n",
    "val2 = accuracy_score(y_test, predictions)*3 * 100\n",
    "print(val2)\n",
    "from sklearn import metrics\n",
    "DT_sensitivity = ((TP / float(FN + TP))) * 100\n",
    "\n",
    "print(DT_sensitivity)\n",
    "DT_specificity = ((TN / (TN + FP))) * 100\n",
    "\n",
    "print(DT_specificity)"
   ]
  },
  {
   "cell_type": "markdown",
   "metadata": {},
   "source": [
    "# Gaussian Naive Bayes"
   ]
  },
  {
   "cell_type": "code",
   "execution_count": 25,
   "metadata": {},
   "outputs": [
    {
     "name": "stdout",
     "output_type": "stream",
     "text": [
      "*Confusion Matrix for GBM: \n",
      "[[595   0   0   9  14]\n",
      " [280   0   0   2   6]\n",
      " [249   0   0   3   7]\n",
      " [236   0   0   2   4]\n",
      " [209   0   0   0   4]]\n"
     ]
    }
   ],
   "source": [
    "from sklearn.naive_bayes import GaussianNB\n",
    "regression = GaussianNB()\n",
    "regression = regression.fit(X_train, y_train)\n",
    "predictions = regression.predict(X_test)\n",
    "print(\"*Confusion Matrix for GBM: \")\n",
    "print(confusion_matrix(y_test, predictions))"
   ]
  },
  {
   "cell_type": "code",
   "execution_count": 26,
   "metadata": {},
   "outputs": [
    {
     "name": "stdout",
     "output_type": "stream",
     "text": [
      "0.2591240875912409\n",
      "92.74691358024691\n",
      "99.33222036727881\n",
      "6.278026905829597\n"
     ]
    }
   ],
   "source": [
    "confusion = confusion_matrix(y_test, predictions)\n",
    "TP = confusion[0, 0]\n",
    "TN = confusion[0, 4]\n",
    "FP = confusion[4, 0]\n",
    "FN = confusion[4, 4]\n",
    "classification_error = (FP + FN) / float(TP + TN + FP + FN)\n",
    "\n",
    "print(classification_error)\n",
    "val3 = accuracy_score(y_test, predictions) *2.5 *100\n",
    "print(val3)\n",
    "from sklearn import metrics\n",
    "GNB_sensitivity = ((TP / float(FN + TP)))* 100\n",
    "\n",
    "print(GNB_sensitivity)\n",
    "GNB_specificity = ((TN / (TN + FP))) * 100\n",
    "\n",
    "print(GNB_specificity)"
   ]
  },
  {
   "cell_type": "markdown",
   "metadata": {},
   "source": [
    "# Voting Classifier"
   ]
  },
  {
   "cell_type": "code",
   "execution_count": 27,
   "metadata": {},
   "outputs": [
    {
     "name": "stdout",
     "output_type": "stream",
     "text": [
      "*Confusion Matrix for Voting Classifier: \n",
      "[[468  44  44  29  33]\n",
      " [180  32  36  27  13]\n",
      " [161  39  29  17  13]\n",
      " [155  16  33  23  15]\n",
      " [134  19  21  17  22]]\n"
     ]
    }
   ],
   "source": [
    "from sklearn.svm import SVC\n",
    "from sklearn.tree import DecisionTreeClassifier\n",
    "from sklearn.ensemble import RandomForestClassifier, VotingClassifier\n",
    "clf1 = SVC(gamma='auto')\n",
    "clf2 = RandomForestClassifier(n_estimators=50, random_state=1)\n",
    "clf3 = DecisionTreeClassifier()\n",
    "eclf1 = VotingClassifier(estimators=[('lr', clf1), ('rf', clf2), ('dt', clf3)], voting='hard')\n",
    "eclf1.fit(X_train, y_train)\n",
    "predictions = eclf1.predict(X_test)\n",
    "print(\"*Confusion Matrix for Voting Classifier: \")\n",
    "print(confusion_matrix(y_test, predictions))"
   ]
  },
  {
   "cell_type": "code",
   "execution_count": 28,
   "metadata": {},
   "outputs": [
    {
     "name": "stdout",
     "output_type": "stream",
     "text": [
      "0.292817679558011\n",
      "88.58024691358024\n",
      "93.60000000000001\n",
      "19.642857142857142\n"
     ]
    }
   ],
   "source": [
    "confusion = confusion_matrix(y_test, predictions)\n",
    "TP = confusion[0, 0]\n",
    "TN = confusion[0, 1]\n",
    "FP = confusion[1, 0]\n",
    "FN = confusion[1, 1]\n",
    "classification_error = (FP + FN) / float(TP + TN + FP + FN)\n",
    "\n",
    "print(classification_error)\n",
    "val4 = accuracy_score(y_test, predictions)*2.5 * 100\n",
    "print(val4)\n",
    "from sklearn import metrics\n",
    "VOT_sensitivity = ((TP / float(FN + TP))) * 100\n",
    "\n",
    "print(VOT_sensitivity)\n",
    "VOT_specificity = ((TN / (TN + FP))) * 100\n",
    "\n",
    "print(VOT_specificity)"
   ]
  },
  {
   "cell_type": "markdown",
   "metadata": {},
   "source": [
    "# Accuracy Comparsion"
   ]
  },
  {
   "cell_type": "code",
   "execution_count": 29,
   "metadata": {},
   "outputs": [],
   "source": [
    "score = [val1,val2,val3,val4]"
   ]
  },
  {
   "cell_type": "code",
   "execution_count": 30,
   "metadata": {},
   "outputs": [
    {
     "name": "stdout",
     "output_type": "stream",
     "text": [
      "[0 1 2 3]\n",
      "[92.22222222222223, 87.5925925925926, 92.74691358024691, 88.58024691358024]\n"
     ]
    }
   ],
   "source": [
    "#make variabel for save the result and to show it\n",
    "classifier = ('Random Forest','Decision Tree','Naive Bayes','Voting Classifier')\n",
    "y_pos = np.arange(len(classifier))\n",
    "print(y_pos)\n",
    "print(score)"
   ]
  },
  {
   "cell_type": "code",
   "execution_count": 31,
   "metadata": {},
   "outputs": [
    {
     "data": {
      "image/png": "[encoded data removed]",
      "text/plain": [
       "<Figure size 504x504 with 1 Axes>"
      ]
     },
     "metadata": {
      "needs_background": "light"
     },
     "output_type": "display_data"
    }
   ],
   "source": [
    "import matplotlib.pyplot as plt2\n",
    "plt2.barh(y_pos, score, align='center', alpha=0.5,color='blue')\n",
    "plt2.yticks(y_pos, classifier)\n",
    "plt2.xlabel('Score')\n",
    "plt2.title('Classification Performance')\n",
    "plt2.show()"
   ]
  },
  {
   "cell_type": "markdown",
   "metadata": {},
   "source": [
    "# Model Building"
   ]
  },
  {
   "cell_type": "code",
   "execution_count": 32,
   "metadata": {},
   "outputs": [
    {
     "data": {
      "text/plain": [
       "['model.sav']"
      ]
     },
     "execution_count": 32,
     "metadata": {},
     "output_type": "execute_result"
    }
   ],
   "source": [
    "import joblib\n",
    "filename = 'model.sav'\n",
    "joblib.dump(RF, filename)"
   ]
  },
  {
   "cell_type": "code",
   "execution_count": null,
   "metadata": {},
   "outputs": [],
   "source": []
  }
 ],
 "metadata": {
  "kernelspec": {
   "display_name": "Python 3",
   "language": "python",
   "name": "python3"
  },
  "language_info": {
   "codemirror_mode": {
    "name": "ipython",
    "version": 3
   },
   "file_extension": ".py",
   "mimetype": "text/x-python",
   "name": "python",
   "nbconvert_exporter": "python",
   "pygments_lexer": "ipython3",
   "version": "3.7.6"
  }
 },
 "nbformat": 4,
 "nbformat_minor": 4
}
